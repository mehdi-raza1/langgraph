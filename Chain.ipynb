{
  "cells": [
    {
      "cell_type": "code",
      "execution_count": null,
      "metadata": {
        "id": "mZeCiZmG4yxh"
      },
      "outputs": [],
      "source": [
        "%%capture --no-stderr\n",
        "\n",
        "!pip install --quiet -U langgraph"
      ]
    },
    {
      "cell_type": "code",
      "execution_count": null,
      "metadata": {
        "id": "ueKevm2y5ZNW"
      },
      "outputs": [],
      "source": [
        "from typing_extensions import TypedDict\n",
        "\n",
        "class State(TypedDict):\n",
        "  prompt:str"
      ]
    },
    {
      "cell_type": "code",
      "execution_count": null,
      "metadata": {
        "id": "uRgZhj-I78rY"
      },
      "outputs": [],
      "source": [
        "test1 : State  = State(prompt=\"Hello World\")"
      ]
    },
    {
      "cell_type": "code",
      "execution_count": null,
      "metadata": {
        "colab": {
          "base_uri": "https://localhost:8080/"
        },
        "id": "4pfNsZ938Gjn",
        "outputId": "ad195bfb-f90e-4c83-ef28-eb3b8d47102d"
      },
      "outputs": [
        {
          "name": "stdout",
          "output_type": "stream",
          "text": [
            "{'prompt': 'Hello World'}\n",
            "Hello World\n",
            "Hello World I am\n",
            "<class 'dict'>\n"
          ]
        }
      ],
      "source": [
        "print(test1)\n",
        "print(test1['prompt'])\n",
        "print(test1['prompt']  +\" I am\")\n",
        "print(type(test1))"
      ]
    },
    {
      "cell_type": "code",
      "execution_count": null,
      "metadata": {
        "id": "cJ8eNXkO8s0o"
      },
      "outputs": [],
      "source": [
        "def node_1 (state: State) -> State:\n",
        "  print('node 1 ============= > ', State)\n",
        "  return {'prompt': state['prompt'] + ' I am'}\n",
        "\n",
        "\n",
        "def node_2(state: State) -> State:\n",
        "  print('node 2 ============= > ', State)\n",
        "  return{'prompt': state['prompt']+ ' happy!'}"
      ]
    },
    {
      "cell_type": "code",
      "execution_count": null,
      "metadata": {
        "id": "Pu8fNDfy9iN4"
      },
      "outputs": [],
      "source": [
        "from IPython.display import display , Image\n",
        "\n",
        "from langgraph.graph import StateGraph, START ,END\n",
        "from langgraph.graph.state import CompiledStateGraph\n",
        "\n",
        "\n",
        "builder : StateGraph = StateGraph(state_schema=State)"
      ]
    },
    {
      "cell_type": "code",
      "execution_count": null,
      "metadata": {
        "colab": {
          "base_uri": "https://localhost:8080/"
        },
        "id": "VfW0_5PZ-GkD",
        "outputId": "da14b85c-17e7-4562-d155-6f019b59ab40"
      },
      "outputs": [
        {
          "name": "stdout",
          "output_type": "stream",
          "text": [
            "<langgraph.graph.state.StateGraph object at 0x7af9d16d81f0>\n"
          ]
        }
      ],
      "source": [
        "print(builder)"
      ]
    },
    {
      "cell_type": "code",
      "execution_count": null,
      "metadata": {
        "colab": {
          "base_uri": "https://localhost:8080/"
        },
        "id": "gGhpEOmV-JKL",
        "outputId": "a13e1709-dd2c-41c9-ea03-634348bc4503"
      },
      "outputs": [
        {
          "data": {
            "text/plain": [
              "<langgraph.graph.state.StateGraph at 0x7af9d16d81f0>"
            ]
          },
          "execution_count": 8,
          "metadata": {},
          "output_type": "execute_result"
        }
      ],
      "source": [
        "builder.add_node(\"node1\",node_1)\n",
        "builder.add_node(\"node2\",node_2)"
      ]
    },
    {
      "cell_type": "code",
      "execution_count": null,
      "metadata": {
        "colab": {
          "base_uri": "https://localhost:8080/"
        },
        "id": "neKw03HO-YWO",
        "outputId": "c8066e26-d0ab-49d1-cb25-f8615d49aa12"
      },
      "outputs": [
        {
          "data": {
            "text/plain": [
              "<langgraph.graph.state.StateGraph at 0x7af9d16d81f0>"
            ]
          },
          "execution_count": 9,
          "metadata": {},
          "output_type": "execute_result"
        }
      ],
      "source": [
        "builder.add_edge(START,\"node1\")\n",
        "builder.add_edge(\"node1\",\"node2\")\n",
        "builder.add_edge(\"node2\",END)"
      ]
    },
    {
      "cell_type": "code",
      "execution_count": null,
      "metadata": {
        "colab": {
          "base_uri": "https://localhost:8080/"
        },
        "id": "sbKySI84-iQU",
        "outputId": "7b67ffca-8a8e-4478-fa31-c893f9483153"
      },
      "outputs": [
        {
          "data": {
            "text/plain": [
              "<langgraph.graph.state.CompiledStateGraph at 0x7af9d16d80d0>"
            ]
          },
          "execution_count": 10,
          "metadata": {},
          "output_type": "execute_result"
        }
      ],
      "source": [
        "graph:CompiledStateGraph  = builder.compile()\n",
        "\n",
        "graph"
      ]
    },
    {
      "cell_type": "code",
      "execution_count": null,
      "metadata": {
        "colab": {
          "base_uri": "https://localhost:8080/"
        },
        "id": "H36k4Lm5-vw9",
        "outputId": "fc7825c1-e605-4b33-d385-8fcf97bab5f7"
      },
      "outputs": [
        {
          "data": {
            "text/plain": [
              "Graph(nodes={'__start__': Node(id='__start__', name='__start__', data=<class 'langchain_core.utils.pydantic.LangGraphInput'>, metadata=None), 'node1': Node(id='node1', name='node1', data=node1(tags=None, recurse=True, func_accepts_config=False, func_accepts={'writer': False, 'store': False}), metadata=None), 'node2': Node(id='node2', name='node2', data=node2(tags=None, recurse=True, func_accepts_config=False, func_accepts={'writer': False, 'store': False}), metadata=None), '__end__': Node(id='__end__', name='__end__', data=<class 'langchain_core.utils.pydantic.LangGraphOutput'>, metadata=None)}, edges=[Edge(source='__start__', target='node1', data=None, conditional=False), Edge(source='node1', target='node2', data=None, conditional=False), Edge(source='node2', target='__end__', data=None, conditional=False)])"
            ]
          },
          "execution_count": 11,
          "metadata": {},
          "output_type": "execute_result"
        }
      ],
      "source": [
        "graph.get_graph()"
      ]
    },
    {
      "cell_type": "code",
      "execution_count": null,
      "metadata": {
        "colab": {
          "base_uri": "https://localhost:8080/",
          "height": 350
        },
        "id": "vVS43QEy-n86",
        "outputId": "e8e5a017-d29e-4078-f8d3-7c07fd8f432b"
      },
      "outputs": [
        {
          "data": {
            "image/png": "[encoded data removed]",
            "text/plain": [
              "<IPython.core.display.Image object>"
            ]
          },
          "metadata": {},
          "output_type": "display_data"
        }
      ],
      "source": [
        "display(Image(graph.get_graph().draw_mermaid_png()))"
      ]
    },
    {
      "cell_type": "code",
      "execution_count": null,
      "metadata": {
        "colab": {
          "base_uri": "https://localhost:8080/"
        },
        "id": "DZBRr5cg_S87",
        "outputId": "31417a33-a063-456d-c9d6-3ab4f0bca6f7"
      },
      "outputs": [
        {
          "name": "stdout",
          "output_type": "stream",
          "text": [
            "node 1 ============= >  <class '__main__.State'>\n",
            "node 2 ============= >  <class '__main__.State'>\n"
          ]
        },
        {
          "data": {
            "text/plain": [
              "{'prompt': 'hi I am happy!'}"
            ]
          },
          "execution_count": 13,
          "metadata": {},
          "output_type": "execute_result"
        }
      ],
      "source": [
        "graph.invoke({'prompt':'hi'})"
      ]
    },
    {
      "cell_type": "markdown",
      "metadata": {
        "id": "6NSsYNAkANas"
      },
      "source": [
        "#**Task: In Nodes Use LLM == GoogleChatModel in Langchain**"
      ]
    },
    {
      "cell_type": "code",
      "execution_count": null,
      "metadata": {
        "id": "aELqXAIlASGv"
      },
      "outputs": [],
      "source": [
        "%pip install -q -U langchain langchain-google-genai"
      ]
    },
    {
      "cell_type": "code",
      "execution_count": null,
      "metadata": {
        "id": "Gu-soMDnAfIc"
      },
      "outputs": [],
      "source": [
        "from google.colab import userdata\n",
        "GEMINI_API_KEY = userdata.get('GEMINI_API_KEY')\n"
      ]
    },
    {
      "cell_type": "code",
      "execution_count": null,
      "metadata": {
        "colab": {
          "base_uri": "https://localhost:8080/"
        },
        "id": "fMpbrUR4AtwN",
        "outputId": "42988ac0-6a5d-44d4-983e-932184d3512e"
      },
      "outputs": [
        {
          "data": {
            "text/plain": [
              "ChatGoogleGenerativeAI(model='models/gemini-1.5-flash', google_api_key=SecretStr('**********'), client=<google.ai.generativelanguage_v1beta.services.generative_service.client.GenerativeServiceClient object at 0x7af9998352d0>, default_metadata=())"
            ]
          },
          "execution_count": 19,
          "metadata": {},
          "output_type": "execute_result"
        }
      ],
      "source": [
        "from langchain_google_genai import ChatGoogleGenerativeAI\n",
        "\n",
        "llm = ChatGoogleGenerativeAI(\n",
        "    model = 'gemini-1.5-flash',\n",
        "    api_key = GEMINI_API_KEY,\n",
        "    temreature = 2\n",
        "\n",
        ")\n",
        "\n",
        "llm"
      ]
    },
    {
      "cell_type": "code",
      "execution_count": null,
      "metadata": {
        "colab": {
          "base_uri": "https://localhost:8080/"
        },
        "id": "XQSlT6KWBIol",
        "outputId": "da9a0fb4-9d35-4772-d01f-a80ea9768975"
      },
      "outputs": [
        {
          "data": {
            "text/plain": [
              "AIMessage(content='Hi there! How can I help you today?\\n', additional_kwargs={}, response_metadata={'prompt_feedback': {'block_reason': 0, 'safety_ratings': []}, 'finish_reason': 'STOP', 'safety_ratings': []}, id='run-5dac72b5-9daa-4822-aaaf-5aa0ab707dea-0', usage_metadata={'input_tokens': 2, 'output_tokens': 11, 'total_tokens': 13, 'input_token_details': {'cache_read': 0}})"
            ]
          },
          "execution_count": 21,
          "metadata": {},
          "output_type": "execute_result"
        }
      ],
      "source": [
        "from langchain_core.messages.ai import AIMessage\n",
        "\n",
        "ai_msg : AIMessage = llm.invoke(\"HI\")\n",
        "\n",
        "ai_msg"
      ]
    },
    {
      "cell_type": "code",
      "execution_count": null,
      "metadata": {
        "colab": {
          "background_save": true
        },
        "id": "s2Xlcn28BodN",
        "outputId": "e3aebfd3-1bf5-4cc9-8098-766490b654ca"
      },
      "outputs": [
        {
          "data": {
            "text/plain": [
              "str"
            ]
          },
          "execution_count": 22,
          "metadata": {},
          "output_type": "execute_result"
        }
      ],
      "source": [
        "type(ai_me)"
      ]
    }
  ],
  "metadata": {
    "colab": {
      "provenance": []
    },
    "kernelspec": {
      "display_name": "Python 3",
      "name": "python3"
    },
    "language_info": {
      "name": "python"
    }
  },
  "nbformat": 4,
  "nbformat_minor": 0
}