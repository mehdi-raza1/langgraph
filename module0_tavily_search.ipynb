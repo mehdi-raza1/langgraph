{
  "nbformat": 4,
  "nbformat_minor": 0,
  "metadata": {
    "colab": {
      "provenance": []
    },
    "kernelspec": {
      "name": "python3",
      "display_name": "Python 3"
    },
    "language_info": {
      "name": "python"
    }
  },
  "cells": [
    {
      "cell_type": "code",
      "execution_count": null,
      "metadata": {
        "id": "pgUzBpUiXfPW"
      },
      "outputs": [],
      "source": [
        "%%capture --no-stderr\n",
        "%pip install -q langchain_google_genai langchain_core langchain_community tavily-python"
      ]
    },
    {
      "cell_type": "code",
      "source": [
        "from google.colab import userdata\n",
        "\n",
        "GEMINI_API_KEY = userdata.get('GEMINI_API_KEY')"
      ],
      "metadata": {
        "id": "VeEMLcpEYD-2"
      },
      "execution_count": null,
      "outputs": []
    },
    {
      "cell_type": "code",
      "source": [
        "from langchain_google_genai import ChatGoogleGenerativeAI\n",
        "\n",
        "llm = ChatGoogleGenerativeAI(\n",
        "    model = 'gemini-1.5-flash',\n",
        "    api_key= GEMINI_API_KEY,\n",
        "    temprature = 0\n",
        ")\n",
        "\n",
        "\n"
      ],
      "metadata": {
        "id": "T-MRZ6TFX3vF"
      },
      "execution_count": null,
      "outputs": []
    },
    {
      "cell_type": "code",
      "source": [
        "print(llm)"
      ],
      "metadata": {
        "colab": {
          "base_uri": "https://localhost:8080/"
        },
        "id": "nNSI0--WYw87",
        "outputId": "73a438d2-87a3-41aa-f58b-66be515d16b7"
      },
      "execution_count": null,
      "outputs": [
        {
          "output_type": "stream",
          "name": "stdout",
          "text": [
            "model='models/gemini-1.5-flash' google_api_key=SecretStr('**********') client=<google.ai.generativelanguage_v1beta.services.generative_service.client.GenerativeServiceClient object at 0x7c15e00c04f0> default_metadata=()\n"
          ]
        }
      ]
    },
    {
      "cell_type": "code",
      "source": [
        "llm.invoke('who won us presidential election in 2024')\n",
        "\n"
      ],
      "metadata": {
        "colab": {
          "base_uri": "https://localhost:8080/"
        },
        "id": "qSwZSiEJY4np",
        "outputId": "0669b68e-9f85-44e0-f928-2f83f5388112"
      },
      "execution_count": null,
      "outputs": [
        {
          "output_type": "execute_result",
          "data": {
            "text/plain": [
              "AIMessage(content='I do not have access to real-time information, including future events like the 2024 US Presidential election. \\n\\nThe 2024 US Presidential election is still in the future, and the outcome is unknown.  \\n\\nTo find out who won the election, you will need to wait until after the election takes place in November 2024 and follow the news coverage. \\n', additional_kwargs={}, response_metadata={'prompt_feedback': {'block_reason': 0, 'safety_ratings': []}, 'finish_reason': 'STOP', 'safety_ratings': [{'category': 'HARM_CATEGORY_SEXUALLY_EXPLICIT', 'probability': 'NEGLIGIBLE', 'blocked': False}, {'category': 'HARM_CATEGORY_HATE_SPEECH', 'probability': 'NEGLIGIBLE', 'blocked': False}, {'category': 'HARM_CATEGORY_HARASSMENT', 'probability': 'NEGLIGIBLE', 'blocked': False}, {'category': 'HARM_CATEGORY_DANGEROUS_CONTENT', 'probability': 'NEGLIGIBLE', 'blocked': False}]}, id='run-592b7a1a-184e-471c-9c46-d7b61ad7aabf-0', usage_metadata={'input_tokens': 12, 'output_tokens': 82, 'total_tokens': 94, 'input_token_details': {'cache_read': 0}})"
            ]
          },
          "metadata": {},
          "execution_count": 11
        }
      ]
    },
    {
      "cell_type": "code",
      "source": [
        "from langchain_core.messages import HumanMessage, AIMessage\n",
        "\n",
        "messages = [\n",
        "    HumanMessage(content='who won us presidential election in 2024', role='mehdi'),\n",
        "    AIMessage(content='hi how can i help you today', role='AI Assistant'),\n",
        "     HumanMessage(content=\"What is LangChain?\", name=\"Human Student\"),\n",
        "    AIMessage(content='LangChain is a framework for developing applications powered by language models.', name=\"AI Assistant\"),\n",
        "    HumanMessage(content=\"How can I learn\", name=\"Human Student\"),\n",
        "]\n",
        "\n",
        "llm.invoke(messages)"
      ],
      "metadata": {
        "colab": {
          "base_uri": "https://localhost:8080/"
        },
        "id": "wHkY3-xEbB_g",
        "outputId": "0fdf1358-faff-45ba-8833-be7b23e2596f"
      },
      "execution_count": null,
      "outputs": [
        {
          "output_type": "execute_result",
          "data": {
            "text/plain": [
              "AIMessage(content='You\\'re asking how to learn about LangChain! That\\'s great! There are many ways to get started. Here\\'s a breakdown:\\n\\n**1. Official Resources:**\\n\\n* **LangChain Website:** [https://langchain.com/](https://langchain.com/)  This is the best place to start. It offers a clear explanation of LangChain, its core concepts, and examples. \\n* **Documentation:** [https://langchain.readthedocs.io/en/latest/](https://langchain.readthedocs.io/en/latest/) Dive into the specifics of how LangChain works, its components, and how to use them.\\n\\n**2. Learning by Doing:**\\n\\n* **Tutorials:** The LangChain website and documentation have excellent tutorials that walk you through building simple applications. Start with these to get a feel for the framework.\\n* **Code Examples:** Explore the LangChain GitHub repository ([https://github.com/langchain-ai/langchain](https://github.com/langchain-ai/langchain)) for more complex examples and inspiration.\\n* **Build Your Own Projects:** The best way to learn is by building! Choose a small project that interests you and use LangChain to create it.\\n\\n**3. Community and Support:**\\n\\n* **LangChain Discord:** [https://discord.gg/langchain](https://discord.gg/langchain) Connect with other LangChain users, ask questions, and get help.\\n* **LangChain Forum:** [https://discuss.langchain.com/](https://discuss.langchain.com/)  A forum specifically for discussing LangChain.\\n* **LangChain Blog:** [https://blog.langchain.com/](https://blog.langchain.com/)  Stay up-to-date with the latest news, articles, and updates about LangChain.\\n\\n**4. Additional Resources:**\\n\\n* **YouTube:** Search for \"LangChain tutorials\" on YouTube to find videos that explain concepts and demonstrate examples.\\n* **Blogs and Articles:** Many blogs and articles cover LangChain, providing insights and perspectives.\\n\\n**Key Concepts to Understand:**\\n\\n* **Chains:** LangChain\\'s core building blocks for creating applications. They combine different components (LLMs, prompts, tools) to achieve specific tasks.\\n* **LLMs (Large Language Models):** The foundation of LangChain. You\\'ll need to choose an LLM (like OpenAI\\'s GPT-3 or Google\\'s PaLM) to power your applications.\\n* **Prompts:** The instructions you give to LLMs to guide their responses.\\n* **Tools:** External resources (like APIs, databases, or file systems) that LangChain can integrate with to enhance your applications.\\n\\n**Remember:**\\n\\n* LangChain is a powerful tool, but it\\'s still a relatively new framework. The best way to learn is by experimenting and exploring.\\n* Start with simple projects and gradually build up your skills.\\n* Don\\'t be afraid to ask questions in the community!\\n\\nGood luck on your LangChain journey! \\n', additional_kwargs={}, response_metadata={'prompt_feedback': {'block_reason': 0, 'safety_ratings': []}, 'finish_reason': 'STOP', 'safety_ratings': [{'category': 'HARM_CATEGORY_SEXUALLY_EXPLICIT', 'probability': 'NEGLIGIBLE', 'blocked': False}, {'category': 'HARM_CATEGORY_HATE_SPEECH', 'probability': 'NEGLIGIBLE', 'blocked': False}, {'category': 'HARM_CATEGORY_HARASSMENT', 'probability': 'NEGLIGIBLE', 'blocked': False}, {'category': 'HARM_CATEGORY_DANGEROUS_CONTENT', 'probability': 'NEGLIGIBLE', 'blocked': False}]}, id='run-191357b8-f53c-4899-863f-346bbd7bd304-0', usage_metadata={'input_tokens': 45, 'output_tokens': 648, 'total_tokens': 693, 'input_token_details': {'cache_read': 0}})"
            ]
          },
          "metadata": {},
          "execution_count": 12
        }
      ]
    },
    {
      "cell_type": "code",
      "source": [
        "import os\n",
        "\n",
        "from google.colab import userdata\n",
        "TAVILY_API_KEY = userdata.get('TAVILY_API_KEY')\n",
        "os.environ['TAVILY_API_KEY'] = userdata.get('TAVILY_API_KEY');\n",
        "\n"
      ],
      "metadata": {
        "id": "o6YA9zKzcLCJ"
      },
      "execution_count": null,
      "outputs": []
    },
    {
      "cell_type": "code",
      "source": [
        "from langchain_community.tools.tavily_search import TavilySearchResults\n",
        "\n",
        "tavily_search = TavilySearchResults(\n",
        "    api_key=TAVILY_API_KEY,\n",
        "    max_results=3\n",
        "    )"
      ],
      "metadata": {
        "id": "PwXj3imwcnr1"
      },
      "execution_count": null,
      "outputs": []
    },
    {
      "cell_type": "code",
      "source": [
        "result = tavily_search.invoke('who won us presidential election in 2024')\n",
        "\n",
        "\n",
        "\n",
        "result"
      ],
      "metadata": {
        "colab": {
          "base_uri": "https://localhost:8080/"
        },
        "id": "WKMATy8ydGzz",
        "outputId": "d1bcd3d1-0813-4add-f819-ef5b2af5e23b"
      },
      "execution_count": null,
      "outputs": [
        {
          "output_type": "execute_result",
          "data": {
            "text/plain": [
              "[{'url': 'https://www.bbc.com/news/election/2024/us/results',\n",
              "  'content': 'US Presidential Election Results 2024 - BBC News Close menu BBC News Kamala Harris of the Democrat party has 0 electoral college votes. Donald Trump of the Republican party has 0 electoral college votes. Kamala Harris of the Democrat party has 158,810 votes (38.4%) Donald Trump of the Republican party has 249,225 votes (60.2%) US presidential election results 2024 US election 2024 Voting in some states is particularly hard to predict, with polls showing they could be won by the Republicans or the Democratic party. The battleground states that could decide the 2024 presidential election are: Voters in 11 states will also elect a governor. US election polls: Who is ahead - Harris or Trump? US election 2024 About the BBC'},\n",
              " {'url': 'https://www.cnn.com/election/2024/results/president',\n",
              "  'content': \"Presidential election results 2024 | CNN Politics CNN10 About CNN Watch CNN CNN Harris is hoping to become the first woman elected president, while Trump is vying to become only the second former president to win a nonconsecutive second term after Grover Cleveland in 1892. Maine 4 Electoral Votes Harris 0Trump 0 Nebraska 5 Electoral Votes Harris 0Trump 0 What's so important to note here is that Harris' best path to 270 electoral votes in pre-election polls ran through Michigan, Pennsylvania and Wisconsin. Dems may need to hold their seats in Ohio and Montana -- two states Trump won twice before -- along with MI, WI, PA, AZ, NV and MD to keep the Senate at 50-50 and hope Harris wins to give them control of the chamber. CNN10 About CNN\"},\n",
              " {'url': 'https://www.wsj.com/election/2024/general/president',\n",
              "  'content': 'It takes 270 electoral votes to win the 2024 Presidential Election. 0 Kamala Harris. Donald Trump0. 0 votes (0.0%) 270 electoral votes to win. 0 votes (0.0%)'}]"
            ]
          },
          "metadata": {},
          "execution_count": 16
        }
      ]
    }
  ]
}