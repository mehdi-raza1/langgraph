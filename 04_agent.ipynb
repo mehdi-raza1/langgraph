{
  "nbformat": 4,
  "nbformat_minor": 0,
  "metadata": {
    "colab": {
      "provenance": []
    },
    "kernelspec": {
      "name": "python3",
      "display_name": "Python 3"
    },
    "language_info": {
      "name": "python"
    }
  },
  "cells": [
    {
      "cell_type": "code",
      "source": [
        "\n",
        "%%capture --no-stderr\n",
        "%pip install --quiet -U langchain_google_genai langchain_core langgraph"
      ],
      "metadata": {
        "id": "aVq6OvTZUIGw"
      },
      "execution_count": 14,
      "outputs": []
    },
    {
      "cell_type": "code",
      "source": [
        "import os\n",
        "from google.colab import userdata\n",
        "\n",
        "os.environ[\"GEMINI_API_KEY\"] = userdata.get(\"GEMINI_API_KEY\")"
      ],
      "metadata": {
        "id": "OJrjfNOvR2TH"
      },
      "execution_count": 15,
      "outputs": []
    },
    {
      "cell_type": "code",
      "source": [
        "import getpass\n",
        "\n",
        "def _set_env(var: str):\n",
        "    if not os.environ.get(var):\n",
        "        os.environ[var] = getpass.getpass(f\"{var}: \")\n",
        "\n",
        "\n",
        "_set_env(\"LANGCHAIN_API_KEY\")\n",
        "\n",
        "os.environ[\"LANGCHAIN_TRACING_V2\"] = \"true\"\n",
        "os.environ[\"LANGCHAIN_PROJECT\"] = \"langchain-academy\""
      ],
      "metadata": {
        "id": "MA7wkgekSLSw"
      },
      "execution_count": 16,
      "outputs": []
    },
    {
      "cell_type": "code",
      "source": [
        "os.environ['LANG_SIMTH'] = userdata.get('LANG_SIMTH')"
      ],
      "metadata": {
        "id": "b-LW7Pj1Yd6M"
      },
      "execution_count": 17,
      "outputs": []
    },
    {
      "cell_type": "code",
      "source": [
        "from langchain_google_genai import ChatGoogleGenerativeAI\n",
        "\n",
        "\n",
        "def multiply(a: int, b: int) -> int:\n",
        "    \"\"\"Multiply a and b.\n",
        "\n",
        "    Args:\n",
        "        a: first int\n",
        "        b: second int\n",
        "    \"\"\"\n",
        "    return a * b\n",
        "\n",
        "# This will be a tool\n",
        "def add(a: int, b: int) -> int:\n",
        "    \"\"\"Adds a and b.\n",
        "\n",
        "    Args:\n",
        "        a: first int\n",
        "        b: second int\n",
        "    \"\"\"\n",
        "    return a + b\n",
        "\n",
        "def divide(a: int, b: int) -> float:\n",
        "    \"\"\"Divide a and b.\n",
        "\n",
        "    Args:\n",
        "        a: first int\n",
        "        b: second int\n",
        "    \"\"\"\n",
        "    return a / b\n",
        "\n",
        "tools = [add,multiply,divide]\n",
        "llm = ChatGoogleGenerativeAI(model=\"gemini-1.5-flash\",api_key=os.environ[\"GEMINI_API_KEY\"] ,temperature=0.4)\n",
        "llm_with_tools = llm.bind_tools(tools)"
      ],
      "metadata": {
        "id": "b-5bsHDXSywz"
      },
      "execution_count": 18,
      "outputs": []
    },
    {
      "cell_type": "code",
      "source": [
        "from langgraph.graph import MessagesState\n",
        "from langchain_core.messages import HumanMessage , SystemMessage\n",
        "\n",
        "\n",
        "\n",
        "sys_msg = SystemMessage(content=\"You are a helpful assistant tasked with performing arithmetic on a set of inputs.\")\n",
        "\n",
        "\n",
        "def assistant(state: MessagesState) -> MessagesState:\n",
        "   return {\"messages\": [llm_with_tools.invoke([sys_msg] + state[\"messages\"])]}"
      ],
      "metadata": {
        "id": "8Kzzye-mTNU9"
      },
      "execution_count": 19,
      "outputs": []
    },
    {
      "cell_type": "code",
      "source": [
        "from langgraph.graph import START, END ,StateGraph\n",
        "from langgraph.prebuilt import tools_condition\n",
        "from langgraph.prebuilt import ToolNode\n",
        "from IPython.display import display, Image\n",
        "from langgraph.graph.state import CompiledStateGraph\n",
        "\n",
        "builder: StateGraph = StateGraph(state_schema=MessagesState)\n",
        "\n",
        "builder.add_node(\"assistant\",assistant)\n",
        "builder.add_node(\"tools\",ToolNode(tools))\n",
        "\n",
        "\n",
        "builder.add_edge(START,\"assistant\")\n",
        "builder.add_conditional_edges(\"assistant\",tools_condition)\n",
        "builder.add_edge(\"tools\",\"assistant\")\n",
        "\n",
        "\n",
        "react_graph:CompiledStateGraph = builder.compile()\n",
        "\n",
        "display(Image(react_graph.get_graph(xray=True).draw_mermaid_png()))"
      ],
      "metadata": {
        "colab": {
          "base_uri": "https://localhost:8080/",
          "height": 266
        },
        "id": "KbpNMzusVt-k",
        "outputId": "d90ebd7c-9b62-4c5c-9116-cdd85816de66"
      },
      "execution_count": 20,
      "outputs": [
        {
          "output_type": "display_data",
          "data": {
            "image/png": "[encoded data removed]",
            "text/plain": [
              "<IPython.core.display.Image object>"
            ]
          },
          "metadata": {}
        }
      ]
    },
    {
      "cell_type": "code",
      "source": [
        "messages = [HumanMessage(content=\"Add 3 and 4. Multiply the output by 2. Divide the output by 5\")]\n",
        "messages = react_graph.invoke({\"messages\": messages})"
      ],
      "metadata": {
        "colab": {
          "base_uri": "https://localhost:8080/"
        },
        "id": "Q45YPUkXX6yG",
        "outputId": "23f4bf18-3142-4115-989c-c36f61433dac"
      },
      "execution_count": 21,
      "outputs": [
        {
          "output_type": "stream",
          "name": "stderr",
          "text": [
            "WARNING:langsmith.client:Failed to multipart ingest runs: langsmith.utils.LangSmithAuthError: Authentication failed for https://api.smith.langchain.com/runs/multipart. HTTPError('401 Client Error: Unauthorized for url: https://api.smith.langchain.com/runs/multipart', '{\"detail\":\"Invalid token\"}')trace=5a1e3184-787c-45dc-9e9b-552563a85339,id=5a1e3184-787c-45dc-9e9b-552563a85339; trace=5a1e3184-787c-45dc-9e9b-552563a85339,id=471b4b0a-5054-4eed-b1a3-63c899678ffd; trace=5a1e3184-787c-45dc-9e9b-552563a85339,id=5f43f60b-56c2-4883-a047-0b53eb03590e; trace=5a1e3184-787c-45dc-9e9b-552563a85339,id=a518efae-0a44-44eb-80c1-4be3b37f1339; trace=5a1e3184-787c-45dc-9e9b-552563a85339,id=88cdafb4-399a-4f4d-8192-e9d8de5a4b66; trace=5a1e3184-787c-45dc-9e9b-552563a85339,id=684f1ab0-2db6-4677-96a9-09a410eae74b\n",
            "WARNING:langsmith.client:Failed to multipart ingest runs: langsmith.utils.LangSmithAuthError: Authentication failed for https://api.smith.langchain.com/runs/multipart. HTTPError('401 Client Error: Unauthorized for url: https://api.smith.langchain.com/runs/multipart', '{\"detail\":\"Invalid token\"}')trace=5a1e3184-787c-45dc-9e9b-552563a85339,id=dc177154-0f57-42a8-8e9f-0da70b7b94b6; trace=5a1e3184-787c-45dc-9e9b-552563a85339,id=2f2ab97d-f0d7-488b-88f7-62a7b9053f13; trace=5a1e3184-787c-45dc-9e9b-552563a85339,id=f6ac3591-88fc-45a8-b0bf-b2febc443eb4; trace=5a1e3184-787c-45dc-9e9b-552563a85339,id=d3d72f55-76c9-42f8-a379-cdd3feaa798d; trace=5a1e3184-787c-45dc-9e9b-552563a85339,id=ead5103a-4c43-40f4-a789-2dce425cd45f; trace=5a1e3184-787c-45dc-9e9b-552563a85339,id=01f1dbcb-9fc5-4ccb-b6ec-edf60a038c5e; trace=5a1e3184-787c-45dc-9e9b-552563a85339,id=af728d23-a534-4f55-901c-985d3c19a5b4; trace=5a1e3184-787c-45dc-9e9b-552563a85339,id=88cdafb4-399a-4f4d-8192-e9d8de5a4b66; trace=5a1e3184-787c-45dc-9e9b-552563a85339,id=684f1ab0-2db6-4677-96a9-09a410eae74b\n",
            "WARNING:langsmith.client:Failed to multipart ingest runs: langsmith.utils.LangSmithAuthError: Authentication failed for https://api.smith.langchain.com/runs/multipart. HTTPError('401 Client Error: Unauthorized for url: https://api.smith.langchain.com/runs/multipart', '{\"detail\":\"Invalid token\"}')trace=5a1e3184-787c-45dc-9e9b-552563a85339,id=e9dff552-808a-4c53-8bf1-efa005707898; trace=5a1e3184-787c-45dc-9e9b-552563a85339,id=975a1d35-d7de-4b64-86d3-b58a28715afa; trace=5a1e3184-787c-45dc-9e9b-552563a85339,id=3b7d7540-6211-4105-8704-ead5941330de; trace=5a1e3184-787c-45dc-9e9b-552563a85339,id=c6a0f067-11e3-4375-88f1-49f5270b8817; trace=5a1e3184-787c-45dc-9e9b-552563a85339,id=6936c830-5a3b-4675-b954-bb7b666a6b8b; trace=5a1e3184-787c-45dc-9e9b-552563a85339,id=0baebf07-61c1-45f5-a96e-291ea7afeb2e; trace=5a1e3184-787c-45dc-9e9b-552563a85339,id=ed39c0ec-cd4f-468e-bc54-418eecbee5b8; trace=5a1e3184-787c-45dc-9e9b-552563a85339,id=af728d23-a534-4f55-901c-985d3c19a5b4; trace=5a1e3184-787c-45dc-9e9b-552563a85339,id=01f1dbcb-9fc5-4ccb-b6ec-edf60a038c5e\n",
            "WARNING:langsmith.client:Failed to multipart ingest runs: langsmith.utils.LangSmithAuthError: Authentication failed for https://api.smith.langchain.com/runs/multipart. HTTPError('401 Client Error: Unauthorized for url: https://api.smith.langchain.com/runs/multipart', '{\"detail\":\"Invalid token\"}')trace=5a1e3184-787c-45dc-9e9b-552563a85339,id=845d5fb6-b3f4-4239-8704-760c3917fad6; trace=5a1e3184-787c-45dc-9e9b-552563a85339,id=d49c14ea-aaec-4dc2-99a0-bd1ab9d2b9d7; trace=5a1e3184-787c-45dc-9e9b-552563a85339,id=812688a4-432b-459f-85ae-153ed4e3e824; trace=5a1e3184-787c-45dc-9e9b-552563a85339,id=665e5f7d-4bca-4a17-badf-d443e6350219; trace=5a1e3184-787c-45dc-9e9b-552563a85339,id=433f0b53-d21c-4030-a7e8-56ca8a777286; trace=5a1e3184-787c-45dc-9e9b-552563a85339,id=ee307d2d-6b6c-4fd1-97cc-062cfe0b69dd; trace=5a1e3184-787c-45dc-9e9b-552563a85339,id=278bae2d-86c6-4dd8-92dc-3c88c10484a7; trace=5a1e3184-787c-45dc-9e9b-552563a85339,id=0baebf07-61c1-45f5-a96e-291ea7afeb2e; trace=5a1e3184-787c-45dc-9e9b-552563a85339,id=ed39c0ec-cd4f-468e-bc54-418eecbee5b8\n"
          ]
        }
      ]
    },
    {
      "cell_type": "code",
      "source": [
        "for m in messages['messages']:\n",
        "    m.pretty_print()"
      ],
      "metadata": {
        "colab": {
          "base_uri": "https://localhost:8080/"
        },
        "id": "vuwT3WSgYo0u",
        "outputId": "20968519-75e9-4679-c4f0-1f3b2b057a53"
      },
      "execution_count": 22,
      "outputs": [
        {
          "output_type": "stream",
          "name": "stdout",
          "text": [
            "================================\u001b[1m Human Message \u001b[0m=================================\n",
            "\n",
            "Add 3 and 4. Multiply the output by 2. Divide the output by 5\n",
            "==================================\u001b[1m Ai Message \u001b[0m==================================\n",
            "Tool Calls:\n",
            "  add (eff4fe06-dbf6-4501-a22c-b09cf58d2085)\n",
            " Call ID: eff4fe06-dbf6-4501-a22c-b09cf58d2085\n",
            "  Args:\n",
            "    a: 3.0\n",
            "    b: 4.0\n",
            "=================================\u001b[1m Tool Message \u001b[0m=================================\n",
            "Name: add\n",
            "\n",
            "7\n",
            "==================================\u001b[1m Ai Message \u001b[0m==================================\n",
            "Tool Calls:\n",
            "  multiply (51404fb0-a9bb-40cb-a76a-6e083a6711ad)\n",
            " Call ID: 51404fb0-a9bb-40cb-a76a-6e083a6711ad\n",
            "  Args:\n",
            "    a: 7.0\n",
            "    b: 2.0\n",
            "=================================\u001b[1m Tool Message \u001b[0m=================================\n",
            "Name: multiply\n",
            "\n",
            "14\n",
            "==================================\u001b[1m Ai Message \u001b[0m==================================\n",
            "Tool Calls:\n",
            "  divide (3e0c6e7d-6c27-4055-a782-ca2ef675df1a)\n",
            " Call ID: 3e0c6e7d-6c27-4055-a782-ca2ef675df1a\n",
            "  Args:\n",
            "    a: 14.0\n",
            "    b: 5.0\n",
            "=================================\u001b[1m Tool Message \u001b[0m=================================\n",
            "Name: divide\n",
            "\n",
            "2.8\n",
            "==================================\u001b[1m Ai Message \u001b[0m==================================\n",
            "\n",
            "The final answer is 2.8.\n"
          ]
        }
      ]
    },
    {
      "cell_type": "code",
      "source": [
        "messages = [HumanMessage(content=\"First Add 3 and 4 then multiply answer with 2 and then divide answer with 5. Dont perform division initially\")]\n",
        "messages = react_graph.invoke({\"messages\": messages})"
      ],
      "metadata": {
        "colab": {
          "base_uri": "https://localhost:8080/"
        },
        "id": "wE3g3hZEYwb9",
        "outputId": "8664a2c3-1751-4ebb-d1a9-0fe7fa478d75"
      },
      "execution_count": 23,
      "outputs": [
        {
          "output_type": "stream",
          "name": "stderr",
          "text": [
            "WARNING:langsmith.client:Failed to multipart ingest runs: langsmith.utils.LangSmithAuthError: Authentication failed for https://api.smith.langchain.com/runs/multipart. HTTPError('401 Client Error: Unauthorized for url: https://api.smith.langchain.com/runs/multipart', '{\"detail\":\"Invalid token\"}')trace=5a1e3184-787c-45dc-9e9b-552563a85339,id=1e5cecf8-231d-4c99-a06c-be801d20fb08; trace=5a1e3184-787c-45dc-9e9b-552563a85339,id=261adde8-7c35-4b84-9dfa-3cba7654f365; trace=0e2f358d-7740-42c7-9f13-a3fa7665898b,id=0e2f358d-7740-42c7-9f13-a3fa7665898b; trace=0e2f358d-7740-42c7-9f13-a3fa7665898b,id=59829869-a938-470b-86a4-68d940bc0807; trace=0e2f358d-7740-42c7-9f13-a3fa7665898b,id=3bc778e8-6a35-40b7-8f21-9373feac4f1e; trace=0e2f358d-7740-42c7-9f13-a3fa7665898b,id=32fe07ea-dbe0-40b4-b7ce-69413a743233; trace=0e2f358d-7740-42c7-9f13-a3fa7665898b,id=2ee28b7a-6158-4ac4-9cb2-fef4f9501fb5; trace=0e2f358d-7740-42c7-9f13-a3fa7665898b,id=f04f4f91-9386-44a2-8b96-9d9e44478220; trace=5a1e3184-787c-45dc-9e9b-552563a85339,id=278bae2d-86c6-4dd8-92dc-3c88c10484a7; trace=5a1e3184-787c-45dc-9e9b-552563a85339,id=ee307d2d-6b6c-4fd1-97cc-062cfe0b69dd; trace=5a1e3184-787c-45dc-9e9b-552563a85339,id=5a1e3184-787c-45dc-9e9b-552563a85339\n",
            "WARNING:langsmith.client:Failed to multipart ingest runs: langsmith.utils.LangSmithAuthError: Authentication failed for https://api.smith.langchain.com/runs/multipart. HTTPError('401 Client Error: Unauthorized for url: https://api.smith.langchain.com/runs/multipart', '{\"detail\":\"Invalid token\"}')trace=0e2f358d-7740-42c7-9f13-a3fa7665898b,id=b4b1fea4-8497-4664-854b-24c88337f6a5; trace=0e2f358d-7740-42c7-9f13-a3fa7665898b,id=f7d19349-1140-4f2b-ab01-072fa79efef7; trace=0e2f358d-7740-42c7-9f13-a3fa7665898b,id=c758ce1d-feca-4813-a827-4690c00269af; trace=0e2f358d-7740-42c7-9f13-a3fa7665898b,id=9ab5a8b7-f840-4f14-a5c8-73be444c333d; trace=0e2f358d-7740-42c7-9f13-a3fa7665898b,id=dbb6c60f-b9b4-46f9-ab06-1a92ac5bce0b; trace=0e2f358d-7740-42c7-9f13-a3fa7665898b,id=4384640e-6d64-498c-8514-52307e5a00cd; trace=0e2f358d-7740-42c7-9f13-a3fa7665898b,id=3a4132b8-d6bd-4692-894f-a1c982f7bbca; trace=0e2f358d-7740-42c7-9f13-a3fa7665898b,id=f04f4f91-9386-44a2-8b96-9d9e44478220; trace=0e2f358d-7740-42c7-9f13-a3fa7665898b,id=2ee28b7a-6158-4ac4-9cb2-fef4f9501fb5\n",
            "WARNING:langsmith.client:Failed to multipart ingest runs: langsmith.utils.LangSmithAuthError: Authentication failed for https://api.smith.langchain.com/runs/multipart. HTTPError('401 Client Error: Unauthorized for url: https://api.smith.langchain.com/runs/multipart', '{\"detail\":\"Invalid token\"}')trace=0e2f358d-7740-42c7-9f13-a3fa7665898b,id=05cc7b46-720e-4b82-9939-0bf3e7946952; trace=0e2f358d-7740-42c7-9f13-a3fa7665898b,id=e30ae79d-75b2-4873-befe-427a83adccb5; trace=0e2f358d-7740-42c7-9f13-a3fa7665898b,id=b61f1af5-7527-4ba7-b966-e8c23c81a614; trace=0e2f358d-7740-42c7-9f13-a3fa7665898b,id=724df0b4-b659-460c-957b-ab81cf9fe85b; trace=0e2f358d-7740-42c7-9f13-a3fa7665898b,id=6254210d-23d7-4e9e-bbba-6a6b10a616aa; trace=0e2f358d-7740-42c7-9f13-a3fa7665898b,id=4ed41915-dd50-468a-8afc-81f478b8bef1; trace=0e2f358d-7740-42c7-9f13-a3fa7665898b,id=f0bcb18e-c9a5-4291-a410-5b4fc05fc088; trace=0e2f358d-7740-42c7-9f13-a3fa7665898b,id=3a4132b8-d6bd-4692-894f-a1c982f7bbca; trace=0e2f358d-7740-42c7-9f13-a3fa7665898b,id=4384640e-6d64-498c-8514-52307e5a00cd\n",
            "WARNING:langsmith.client:Failed to multipart ingest runs: langsmith.utils.LangSmithAuthError: Authentication failed for https://api.smith.langchain.com/runs/multipart. HTTPError('401 Client Error: Unauthorized for url: https://api.smith.langchain.com/runs/multipart', '{\"detail\":\"Invalid token\"}')trace=0e2f358d-7740-42c7-9f13-a3fa7665898b,id=a8692d54-4d31-4397-8e1f-177406e944b7; trace=0e2f358d-7740-42c7-9f13-a3fa7665898b,id=5b8b0e5b-7332-4b46-a65e-84722c4c3d68; trace=0e2f358d-7740-42c7-9f13-a3fa7665898b,id=62b7d0b5-7637-4a51-8b1a-e60af62919d1; trace=0e2f358d-7740-42c7-9f13-a3fa7665898b,id=371286ca-0a86-4e3f-ada8-3413c4b2941b; trace=0e2f358d-7740-42c7-9f13-a3fa7665898b,id=6fe66458-114c-4733-b09c-4007dbf557b3; trace=0e2f358d-7740-42c7-9f13-a3fa7665898b,id=632e78f2-1a69-494e-b691-e3192eb1da7b; trace=0e2f358d-7740-42c7-9f13-a3fa7665898b,id=7d55b6ac-538e-4975-9878-a78ab0858fee; trace=0e2f358d-7740-42c7-9f13-a3fa7665898b,id=f0bcb18e-c9a5-4291-a410-5b4fc05fc088; trace=0e2f358d-7740-42c7-9f13-a3fa7665898b,id=4ed41915-dd50-468a-8afc-81f478b8bef1\n"
          ]
        }
      ]
    },
    {
      "cell_type": "code",
      "source": [
        "for m in messages['messages']:\n",
        "    m.pretty_print()"
      ],
      "metadata": {
        "colab": {
          "base_uri": "https://localhost:8080/"
        },
        "id": "J4-qJXiLYzLi",
        "outputId": "f2f118c6-59c1-4969-cc74-6ec991564c67"
      },
      "execution_count": 24,
      "outputs": [
        {
          "output_type": "stream",
          "name": "stdout",
          "text": [
            "================================\u001b[1m Human Message \u001b[0m=================================\n",
            "\n",
            "First Add 3 and 4 then multiply answer with 2 and then divide answer with 5. Dont perform division initially\n",
            "==================================\u001b[1m Ai Message \u001b[0m==================================\n",
            "Tool Calls:\n",
            "  add (01dff841-c7a1-4730-97af-838874fc1d0f)\n",
            " Call ID: 01dff841-c7a1-4730-97af-838874fc1d0f\n",
            "  Args:\n",
            "    a: 3.0\n",
            "    b: 4.0\n",
            "=================================\u001b[1m Tool Message \u001b[0m=================================\n",
            "Name: add\n",
            "\n",
            "7\n",
            "==================================\u001b[1m Ai Message \u001b[0m==================================\n",
            "Tool Calls:\n",
            "  multiply (d283ec31-1f15-44ce-ba6a-5079a9beec5b)\n",
            " Call ID: d283ec31-1f15-44ce-ba6a-5079a9beec5b\n",
            "  Args:\n",
            "    a: 7.0\n",
            "    b: 2.0\n",
            "=================================\u001b[1m Tool Message \u001b[0m=================================\n",
            "Name: multiply\n",
            "\n",
            "14\n",
            "==================================\u001b[1m Ai Message \u001b[0m==================================\n",
            "Tool Calls:\n",
            "  divide (4e008d70-df36-40bd-94e5-25f43e0ee5b4)\n",
            " Call ID: 4e008d70-df36-40bd-94e5-25f43e0ee5b4\n",
            "  Args:\n",
            "    a: 14.0\n",
            "    b: 5.0\n",
            "=================================\u001b[1m Tool Message \u001b[0m=================================\n",
            "Name: divide\n",
            "\n",
            "2.8\n",
            "==================================\u001b[1m Ai Message \u001b[0m==================================\n",
            "\n",
            "The final answer is 2.8.\n"
          ]
        }
      ]
    }
  ]
}