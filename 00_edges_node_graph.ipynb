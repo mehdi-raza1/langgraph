{
  "nbformat": 4,
  "nbformat_minor": 0,
  "metadata": {
    "colab": {
      "provenance": [],
      "authorship_tag": "ABX9TyNQ6haucxfU0olnOapfR96n",
      "include_colab_link": true
    },
    "kernelspec": {
      "name": "python3",
      "display_name": "Python 3"
    },
    "language_info": {
      "name": "python"
    }
  },
  "cells": [
    {
      "cell_type": "markdown",
      "metadata": {
        "id": "view-in-github",
        "colab_type": "text"
      },
      "source": [
        "<a href=\"https://colab.research.google.com/github/mehdi-raza1/langgraph/blob/main/00_edges_node_graph.ipynb\" target=\"_parent\"><img src=\"https://colab.research.google.com/assets/colab-badge.svg\" alt=\"Open In Colab\"/></a>"
      ]
    },
    {
      "cell_type": "code",
      "source": [
        "%%capture --no-stderr\n",
        "\n",
        "%pip install -q -U langgraph"
      ],
      "metadata": {
        "id": "5z5T5Toyel1z"
      },
      "execution_count": null,
      "outputs": []
    },
    {
      "cell_type": "code",
      "execution_count": null,
      "metadata": {
        "id": "qNmgBcN6eXSt"
      },
      "outputs": [],
      "source": [
        "from typing_extensions import TypedDict\n",
        "\n",
        "class LearningState(TypedDict):\n",
        "    prompt:str"
      ]
    },
    {
      "cell_type": "code",
      "source": [
        "first_state : LearningState = LearningState(prompt=\"Hello World\")"
      ],
      "metadata": {
        "id": "n1dakPc-nj0C"
      },
      "execution_count": null,
      "outputs": []
    },
    {
      "cell_type": "code",
      "source": [
        "print(first_state)\n",
        "\n",
        "print(first_state['prompt'])\n",
        "\n",
        "print(first_state['prompt'] + ' I AM')\n",
        "\n",
        "print(first_state)\n",
        "\n",
        "print(type(first_state))\n",
        "\n",
        "\n"
      ],
      "metadata": {
        "colab": {
          "base_uri": "https://localhost:8080/"
        },
        "id": "2ae10I7BnsqK",
        "outputId": "ebeecca0-1f8e-4eaa-e195-54a8a15f8206"
      },
      "execution_count": null,
      "outputs": [
        {
          "output_type": "stream",
          "name": "stdout",
          "text": [
            "{'prompt': 'Hello World'}\n",
            "Hello World\n",
            "Hello World I AM\n",
            "{'prompt': 'Hello World'}\n",
            "<class 'dict'>\n"
          ]
        }
      ]
    },
    {
      "cell_type": "code",
      "source": [
        "def node_1(state: LearningState):\n",
        "   print(\"node1 ======>    state\", state)\n",
        "   return {\"prompt\":state['prompt']+' I Am'}\n",
        "\n",
        "\n",
        "def node_2(state: LearningState):\n",
        "   print(\"node2 ======>    state\", state)\n",
        "   return {\"prompt\":state['prompt']+' Happy'}\n"
      ],
      "metadata": {
        "id": "hJ3BWM--pzHS"
      },
      "execution_count": null,
      "outputs": []
    },
    {
      "cell_type": "code",
      "source": [
        "from langgraph.graph import StateGraph , START , END\n",
        "from langgraph.graph.state import CompiledStateGraph\n",
        "\n",
        "builder: StateGraph = StateGraph(state_schema=LearningState)"
      ],
      "metadata": {
        "id": "ciIEu-mXq1Gw"
      },
      "execution_count": null,
      "outputs": []
    },
    {
      "cell_type": "code",
      "source": [
        "print(type(builder))"
      ],
      "metadata": {
        "colab": {
          "base_uri": "https://localhost:8080/"
        },
        "id": "n_fZj4d0rWnA",
        "outputId": "a8ce7605-29dc-451d-b2b1-9d779fef6858"
      },
      "execution_count": null,
      "outputs": [
        {
          "output_type": "stream",
          "name": "stdout",
          "text": [
            "<class 'langgraph.graph.state.StateGraph'>\n"
          ]
        }
      ]
    },
    {
      "cell_type": "code",
      "source": [
        "builder.add_node(\"node1\", node_1)\n",
        "builder.add_node(\"node2\", node_2)\n",
        "\n"
      ],
      "metadata": {
        "colab": {
          "base_uri": "https://localhost:8080/"
        },
        "id": "nn6gzhRHsKIO",
        "outputId": "dabeb44b-837b-4fca-e582-0a1cbd216e95"
      },
      "execution_count": null,
      "outputs": [
        {
          "output_type": "execute_result",
          "data": {
            "text/plain": [
              "<langgraph.graph.state.StateGraph at 0x79279fad9ff0>"
            ]
          },
          "metadata": {},
          "execution_count": 33
        }
      ]
    },
    {
      "cell_type": "code",
      "source": [
        "builder.add_edge(START, \"node1\")\n",
        "builder.add_edge(\"node1\", \"node2\")\n",
        "builder.add_edge(\"node2\", END)"
      ],
      "metadata": {
        "colab": {
          "base_uri": "https://localhost:8080/"
        },
        "id": "gIPYfC2WsWtJ",
        "outputId": "28d92fb1-7989-4b1a-eec5-4d92bbb3d452"
      },
      "execution_count": null,
      "outputs": [
        {
          "output_type": "execute_result",
          "data": {
            "text/plain": [
              "<langgraph.graph.state.StateGraph at 0x79279fad9ff0>"
            ]
          },
          "metadata": {},
          "execution_count": 34
        }
      ]
    },
    {
      "cell_type": "code",
      "source": [
        "graph: CompiledStateGraph = builder.compile()"
      ],
      "metadata": {
        "id": "jReoOGuFsbc3"
      },
      "execution_count": null,
      "outputs": []
    },
    {
      "cell_type": "code",
      "source": [
        "from IPython.display import display,Image\n",
        "\n",
        "print(graph.get_graph())\n",
        "\n",
        "# graph.get_graph"
      ],
      "metadata": {
        "colab": {
          "base_uri": "https://localhost:8080/"
        },
        "id": "53HEZQZ7sgpT",
        "outputId": "731c1269-a884-4f80-cc3b-ac967bfd01f3"
      },
      "execution_count": null,
      "outputs": [
        {
          "output_type": "stream",
          "name": "stdout",
          "text": [
            "Graph(nodes={'__start__': Node(id='__start__', name='__start__', data=<class 'langchain_core.utils.pydantic.LangGraphInput'>, metadata=None), 'node1': Node(id='node1', name='node1', data=node1(tags=None, recurse=True, func_accepts_config=False, func_accepts={'writer': False, 'store': False}), metadata=None), 'node2': Node(id='node2', name='node2', data=node2(tags=None, recurse=True, func_accepts_config=False, func_accepts={'writer': False, 'store': False}), metadata=None), '__end__': Node(id='__end__', name='__end__', data=<class 'langchain_core.utils.pydantic.LangGraphOutput'>, metadata=None)}, edges=[Edge(source='__start__', target='node1', data=None, conditional=False), Edge(source='node1', target='node2', data=None, conditional=False), Edge(source='node2', target='__end__', data=None, conditional=False)])\n"
          ]
        }
      ]
    },
    {
      "cell_type": "code",
      "source": [
        "display(Image(graph.get_graph().draw_mermaid_png()))"
      ],
      "metadata": {
        "colab": {
          "base_uri": "https://localhost:8080/",
          "height": 350
        },
        "id": "m5AIzg-QtGUe",
        "outputId": "94778e43-131c-40cc-914d-e9d874cee7a5"
      },
      "execution_count": null,
      "outputs": [
        {
          "output_type": "display_data",
          "data": {
            "image/jpeg": "[encoded data removed]",
            "text/plain": [
              "<IPython.core.display.Image object>"
            ]
          },
          "metadata": {}
        }
      ]
    },
    {
      "cell_type": "code",
      "source": [
        "graph.invoke({\"prompt\":\"Hi\"})"
      ],
      "metadata": {
        "colab": {
          "base_uri": "https://localhost:8080/"
        },
        "id": "Ct0HCW-wtlBI",
        "outputId": "e7eb2688-0982-4930-ebff-d7d24d7ca7f0"
      },
      "execution_count": null,
      "outputs": [
        {
          "output_type": "stream",
          "name": "stdout",
          "text": [
            "node1 ======>    state {'prompt': 'Hi'}\n",
            "node2 ======>    state {'prompt': 'Hi I Am'}\n"
          ]
        },
        {
          "output_type": "execute_result",
          "data": {
            "text/plain": [
              "{'prompt': 'Hi I Am Happy'}"
            ]
          },
          "metadata": {},
          "execution_count": 38
        }
      ]
    },
    {
      "cell_type": "markdown",
      "source": [
        "# **Task**: In Nodes Use LLM == GoogleChatModel in Langchain"
      ],
      "metadata": {
        "id": "3ytBI3g3uq_f"
      }
    },
    {
      "cell_type": "code",
      "source": [
        "%pip install -q -U langchain\n",
        "%pip install -q -U langchain-google-genai"
      ],
      "metadata": {
        "colab": {
          "base_uri": "https://localhost:8080/"
        },
        "id": "UDX8V2tGuuiQ",
        "outputId": "a14b3842-27b6-4de1-a881-1f88ee4d91cb"
      },
      "execution_count": null,
      "outputs": [
        {
          "output_type": "stream",
          "name": "stdout",
          "text": [
            "\u001b[2K   \u001b[90m━━━━━━━━━━━━━━━━━━━━━━━━━━━━━━━━━━━━━━━━\u001b[0m \u001b[32m1.0/1.0 MB\u001b[0m \u001b[31m10.6 MB/s\u001b[0m eta \u001b[36m0:00:00\u001b[0m\n",
            "\u001b[2K   \u001b[90m━━━━━━━━━━━━━━━━━━━━━━━━━━━━━━━━━━━━━━━━\u001b[0m \u001b[32m41.8/41.8 kB\u001b[0m \u001b[31m1.5 MB/s\u001b[0m eta \u001b[36m0:00:00\u001b[0m\n",
            "\u001b[?25h"
          ]
        }
      ]
    },
    {
      "cell_type": "code",
      "source": [
        "from google.colab import userdata\n",
        "gemini_api_key = userdata.get('GEMINI_API_KEY')\n",
        "\n"
      ],
      "metadata": {
        "id": "eGNN-U2OvDeK"
      },
      "execution_count": null,
      "outputs": []
    },
    {
      "cell_type": "code",
      "source": [
        "from langchain_google_genai import ChatGoogleGenerativeAI\n",
        "\n",
        "llm:ChatGoogleGenerativeAI = ChatGoogleGenerativeAI(\n",
        "    model='gemini-1.5-flash',\n",
        "    api_key=gemini_api_key\n",
        "\n",
        "    )"
      ],
      "metadata": {
        "id": "RqWp3V8mvTus"
      },
      "execution_count": null,
      "outputs": []
    },
    {
      "cell_type": "code",
      "source": [
        "from langchain_core.messages.ai import AIMessage\n",
        "\n",
        "ai_message : AIMessage = llm.invoke(\"hi?\")"
      ],
      "metadata": {
        "id": "s7r_5sfdvvKt"
      },
      "execution_count": null,
      "outputs": []
    },
    {
      "cell_type": "code",
      "source": [
        "print(ai_message)"
      ],
      "metadata": {
        "colab": {
          "base_uri": "https://localhost:8080/"
        },
        "id": "zEo1U1RAwJOJ",
        "outputId": "275195b9-7ef7-4ba2-b603-0b13ce5b8f95"
      },
      "execution_count": null,
      "outputs": [
        {
          "output_type": "stream",
          "name": "stdout",
          "text": [
            "content='Hi there! How can I help you today? \\n' additional_kwargs={} response_metadata={'prompt_feedback': {'block_reason': 0, 'safety_ratings': []}, 'finish_reason': 'STOP', 'safety_ratings': [{'category': 'HARM_CATEGORY_SEXUALLY_EXPLICIT', 'probability': 'NEGLIGIBLE', 'blocked': False}, {'category': 'HARM_CATEGORY_HATE_SPEECH', 'probability': 'NEGLIGIBLE', 'blocked': False}, {'category': 'HARM_CATEGORY_HARASSMENT', 'probability': 'NEGLIGIBLE', 'blocked': False}, {'category': 'HARM_CATEGORY_DANGEROUS_CONTENT', 'probability': 'NEGLIGIBLE', 'blocked': False}]} id='run-68befafc-7d7f-4bbc-b7d4-f297ccc112c4-0' usage_metadata={'input_tokens': 3, 'output_tokens': 11, 'total_tokens': 14, 'input_token_details': {'cache_read': 0}}\n"
          ]
        }
      ]
    },
    {
      "cell_type": "code",
      "source": [
        "print(ai_message.content)\n",
        "print(type(ai_message))"
      ],
      "metadata": {
        "colab": {
          "base_uri": "https://localhost:8080/"
        },
        "id": "mPns5lFdwMrO",
        "outputId": "554cbfbf-5a72-4252-830f-bd5a7c4cc6a0"
      },
      "execution_count": null,
      "outputs": [
        {
          "output_type": "stream",
          "name": "stdout",
          "text": [
            "Hi there! How can I help you today? \n",
            "\n",
            "<class 'langchain_core.messages.ai.AIMessage'>\n"
          ]
        }
      ]
    },
    {
      "cell_type": "markdown",
      "source": [
        "# Using langchain with langgraph"
      ],
      "metadata": {
        "id": "nc0S8HrLwgH1"
      }
    },
    {
      "cell_type": "code",
      "source": [
        "from typing_extensions import TypedDict\n",
        "\n",
        "class State(TypedDict):\n",
        "    prompt:str\n",
        "    output:str"
      ],
      "metadata": {
        "id": "jgt3S_qlwnpG"
      },
      "execution_count": null,
      "outputs": []
    },
    {
      "cell_type": "code",
      "source": [
        "def node_1(state: State):\n",
        "  print(\"First State ======> \", state)\n",
        "  prompt = state['prompt']\n",
        "  result = llm.invoke(prompt)\n",
        "  return {\"output\": result.content}"
      ],
      "metadata": {
        "id": "a53FgXd1xDs9"
      },
      "execution_count": null,
      "outputs": []
    },
    {
      "cell_type": "code",
      "source": [
        "testing = node_1(State(prompt = \"hello from mehdi\"))\n",
        "print(testing)"
      ],
      "metadata": {
        "colab": {
          "base_uri": "https://localhost:8080/"
        },
        "id": "q0n8J4hTx3Us",
        "outputId": "1f396caf-af68-4116-eb69-13a9bdf7ecf7"
      },
      "execution_count": null,
      "outputs": [
        {
          "output_type": "stream",
          "name": "stdout",
          "text": [
            "First State ======>  {'prompt': 'hello from mehdi'}\n",
            "{'output': \"Hello Mehdi! It's nice to hear from you. How can I help you today? \\n\"}\n"
          ]
        }
      ]
    },
    {
      "cell_type": "code",
      "source": [
        "from IPython.display import display,Image\n",
        "\n",
        "from langgraph.graph import StateGraph , START , END\n",
        "from langgraph.graph.state import CompiledStateGraph\n",
        "\n",
        "builder: StateGraph = StateGraph(state_schema=State)\n",
        "\n"
      ],
      "metadata": {
        "id": "KYi_cmfYyJSX"
      },
      "execution_count": null,
      "outputs": []
    },
    {
      "cell_type": "code",
      "source": [
        "\n",
        "builder.add_node(\"node1\", node_1)\n",
        "builder.add_edge(START, \"node1\")\n",
        "builder.add_edge(\"node1\", END)\n",
        "\n",
        "\n",
        "graph: CompiledStateGraph = builder.compile()"
      ],
      "metadata": {
        "id": "5t2Nju3vyfM9"
      },
      "execution_count": null,
      "outputs": []
    },
    {
      "cell_type": "code",
      "source": [
        "display(Image(graph.get_graph().draw_mermaid_png()))"
      ],
      "metadata": {
        "colab": {
          "base_uri": "https://localhost:8080/",
          "height": 251
        },
        "id": "aTLMtrxbyiND",
        "outputId": "b3e20137-90c4-4da9-df59-a18a543d87ff"
      },
      "execution_count": null,
      "outputs": [
        {
          "output_type": "display_data",
          "data": {
            "image/jpeg": "[encoded data removed]",
            "text/plain": [
              "<IPython.core.display.Image object>"
            ]
          },
          "metadata": {}
        }
      ]
    },
    {
      "cell_type": "code",
      "source": [
        "result = graph.invoke({\"prompt\":\"What is langchain\"})"
      ],
      "metadata": {
        "colab": {
          "base_uri": "https://localhost:8080/"
        },
        "id": "Y9cID5qgymuW",
        "outputId": "35fd7610-c99e-4bb4-e8f4-8f22f80bb46c"
      },
      "execution_count": null,
      "outputs": [
        {
          "output_type": "stream",
          "name": "stdout",
          "text": [
            "First State ======>  {'prompt': 'What is langchain'}\n"
          ]
        }
      ]
    },
    {
      "cell_type": "code",
      "source": [
        "print(result)"
      ],
      "metadata": {
        "colab": {
          "base_uri": "https://localhost:8080/"
        },
        "id": "mxabu4MkyyzT",
        "outputId": "3aa3f2f8-39fb-4810-c44c-a86239df3d22"
      },
      "execution_count": null,
      "outputs": [
        {
          "output_type": "stream",
          "name": "stdout",
          "text": [
            "{'prompt': 'What is langchain', 'output': \"LangChain is a framework for developing applications powered by large language models (LLMs). It essentially acts as a bridge between LLMs and your applications, allowing you to:\\n\\n**1. Chain together different components:**\\n\\n* **LLMs:** LangChain integrates with various LLMs like OpenAI's GPT-3, Google's PaLM, and others.\\n* **Data Sources:** Connect your applications to various data sources like databases, files, APIs, and even the web.\\n* **Other Components:**  Utilize components like text splitters, memory modules, and prompt templates.\\n\\n**2. Build complex workflows:**\\n\\n* **Prompt Engineering:**  Craft effective prompts to guide LLMs and get desired responses.\\n* **Chain Management:**  Organize and manage chains of different components to achieve specific tasks.\\n* **Data Augmentation:**  Use LLMs to enhance data, generate synthetic data, or summarize existing data.\\n\\n**3. Improve LLM performance:**\\n\\n* **Contextualization:**  Provide LLMs with relevant context from your data sources for better understanding and responses.\\n* **Memory:**  Maintain a history of interactions with the LLM to improve conversation flow and accuracy.\\n* **Error Handling:**  Implement mechanisms to handle unexpected LLM responses or errors.\\n\\n**In essence, LangChain empowers developers to build powerful applications that leverage the capabilities of LLMs in a structured and efficient manner. Here are some examples of what you can do with LangChain:**\\n\\n* **Chatbots:** Develop intelligent chatbots that can understand and respond to complex queries.\\n* **Summarization and Analysis:**  Summarize large amounts of text, extract key insights, and analyze data.\\n* **Code Generation:**  Generate code snippets or entire programs based on natural language instructions.\\n* **Creative Writing:**  Collaborate with LLMs to write stories, poems, or other creative content.\\n\\n**Key Benefits of LangChain:**\\n\\n* **Simplicity:**  Offers a user-friendly interface for building LLM-powered applications.\\n* **Flexibility:**  Provides building blocks for various use cases and allows customization.\\n* **Efficiency:**  Streamlines LLM integration and reduces development time.\\n* **Community Support:**  Has a growing community of developers and resources for assistance.\\n\\nIf you're interested in exploring the world of LLMs and building innovative applications, LangChain is a powerful tool to consider. \\n\"}\n"
          ]
        }
      ]
    },
    {
      "cell_type": "code",
      "source": [
        "import textwrap\n",
        "from IPython.display import display, Markdown\n",
        "\n",
        "def to_markdown(text)-> Markdown:\n",
        "    text : str = text.replace(\"•\", \"  *\")\n",
        "    return Markdown(textwrap.indent(text, \"> \", predicate=lambda _: True))"
      ],
      "metadata": {
        "id": "3T-Y_Oy9zI8Z"
      },
      "execution_count": null,
      "outputs": []
    },
    {
      "cell_type": "code",
      "source": [
        "print(\"Promt : \"  , result['prompt'])\n",
        "to_markdown(result['output'])\n"
      ],
      "metadata": {
        "colab": {
          "base_uri": "https://localhost:8080/",
          "height": 579
        },
        "id": "p1KNiajSz3sw",
        "outputId": "eec1f6c6-0e40-42fb-a357-eee26f951244"
      },
      "execution_count": null,
      "outputs": [
        {
          "output_type": "stream",
          "name": "stdout",
          "text": [
            "Promt :  What is langchain\n"
          ]
        },
        {
          "output_type": "execute_result",
          "data": {
            "text/plain": [
              "<IPython.core.display.Markdown object>"
            ],
            "text/markdown": "> LangChain is a framework for developing applications powered by large language models (LLMs). It essentially acts as a bridge between LLMs and your applications, allowing you to:\n> \n> **1. Chain together different components:**\n> \n> * **LLMs:** LangChain integrates with various LLMs like OpenAI's GPT-3, Google's PaLM, and others.\n> * **Data Sources:** Connect your applications to various data sources like databases, files, APIs, and even the web.\n> * **Other Components:**  Utilize components like text splitters, memory modules, and prompt templates.\n> \n> **2. Build complex workflows:**\n> \n> * **Prompt Engineering:**  Craft effective prompts to guide LLMs and get desired responses.\n> * **Chain Management:**  Organize and manage chains of different components to achieve specific tasks.\n> * **Data Augmentation:**  Use LLMs to enhance data, generate synthetic data, or summarize existing data.\n> \n> **3. Improve LLM performance:**\n> \n> * **Contextualization:**  Provide LLMs with relevant context from your data sources for better understanding and responses.\n> * **Memory:**  Maintain a history of interactions with the LLM to improve conversation flow and accuracy.\n> * **Error Handling:**  Implement mechanisms to handle unexpected LLM responses or errors.\n> \n> **In essence, LangChain empowers developers to build powerful applications that leverage the capabilities of LLMs in a structured and efficient manner. Here are some examples of what you can do with LangChain:**\n> \n> * **Chatbots:** Develop intelligent chatbots that can understand and respond to complex queries.\n> * **Summarization and Analysis:**  Summarize large amounts of text, extract key insights, and analyze data.\n> * **Code Generation:**  Generate code snippets or entire programs based on natural language instructions.\n> * **Creative Writing:**  Collaborate with LLMs to write stories, poems, or other creative content.\n> \n> **Key Benefits of LangChain:**\n> \n> * **Simplicity:**  Offers a user-friendly interface for building LLM-powered applications.\n> * **Flexibility:**  Provides building blocks for various use cases and allows customization.\n> * **Efficiency:**  Streamlines LLM integration and reduces development time.\n> * **Community Support:**  Has a growing community of developers and resources for assistance.\n> \n> If you're interested in exploring the world of LLMs and building innovative applications, LangChain is a powerful tool to consider. \n"
          },
          "metadata": {},
          "execution_count": 78
        }
      ]
    }
  ]
}